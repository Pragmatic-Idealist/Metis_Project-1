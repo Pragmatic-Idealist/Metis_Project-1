{
 "cells": [
  {
   "cell_type": "code",
   "execution_count": 19,
   "metadata": {},
   "outputs": [],
   "source": [
    "import pandas as pd\n",
    "import datetime"
   ]
  },
  {
   "cell_type": "code",
   "execution_count": 20,
   "metadata": {},
   "outputs": [],
   "source": [
    "numdays = 15  # just setting the number of days we want to take back from today\n",
    "# we can increase it later, this is just so we can start with a \"small\" data set"
   ]
  },
  {
   "cell_type": "code",
   "execution_count": 21,
   "metadata": {},
   "outputs": [
    {
     "data": {
      "text/plain": [
       "datetime.datetime(2019, 6, 22, 8, 15, 27, 243860)"
      ]
     },
     "execution_count": 21,
     "metadata": {},
     "output_type": "execute_result"
    }
   ],
   "source": [
    "date_time_str = '2019-06-22 08:15:27.243860'  # penultimate date of the range in the MTA website\n",
    "date_time_obj = datetime.datetime.strptime(date_time_str, '%Y-%m-%d %H:%M:%S.%f')  \n",
    "# transforming it to a date_time obj\n",
    "date_time_obj"
   ]
  },
  {
   "cell_type": "code",
   "execution_count": 22,
   "metadata": {},
   "outputs": [
    {
     "data": {
      "text/plain": [
       "[datetime.datetime(2019, 6, 22, 8, 15, 27, 243860),\n",
       " datetime.datetime(2019, 6, 15, 8, 15, 27, 243860),\n",
       " datetime.datetime(2019, 6, 8, 8, 15, 27, 243860)]"
      ]
     },
     "execution_count": 22,
     "metadata": {},
     "output_type": "execute_result"
    }
   ],
   "source": [
    "date_list = [date_time_obj - datetime.timedelta(days=x) for x in range(0, numdays, 7)]\n",
    "# creating a list of dates that starts on the penultimate date and goes back the numdays we've set \n",
    "# (jumping 7 days each time)\n",
    "date_list"
   ]
  },
  {
   "cell_type": "code",
   "execution_count": 23,
   "metadata": {},
   "outputs": [
    {
     "data": {
      "text/plain": [
       "['190622', '190615', '190608']"
      ]
     },
     "execution_count": 23,
     "metadata": {},
     "output_type": "execute_result"
    }
   ],
   "source": [
    "# transforming the dates into strings and putting in a list:\n",
    "\n",
    "url_dates = []\n",
    "\n",
    "for i in date_list:\n",
    "    year = str(i.year).replace(\"20\", \"\")\n",
    "    day = str(i.day)\n",
    "    if i.day < 10:\n",
    "        day = \"0\" + day\n",
    "    month = str(i.month)\n",
    "    if i.month < 10:\n",
    "        month = \"0\" + month\n",
    "    date_str = year + month + day\n",
    "    url_dates.append(date_str)\n",
    "\n",
    "url_dates"
   ]
  },
  {
   "cell_type": "code",
   "execution_count": 24,
   "metadata": {},
   "outputs": [
    {
     "data": {
      "text/html": [
       "<div>\n",
       "<style scoped>\n",
       "    .dataframe tbody tr th:only-of-type {\n",
       "        vertical-align: middle;\n",
       "    }\n",
       "\n",
       "    .dataframe tbody tr th {\n",
       "        vertical-align: top;\n",
       "    }\n",
       "\n",
       "    .dataframe thead th {\n",
       "        text-align: right;\n",
       "    }\n",
       "</style>\n",
       "<table border=\"1\" class=\"dataframe\">\n",
       "  <thead>\n",
       "    <tr style=\"text-align: right;\">\n",
       "      <th></th>\n",
       "      <th>C/A</th>\n",
       "      <th>UNIT</th>\n",
       "      <th>SCP</th>\n",
       "      <th>STATION</th>\n",
       "      <th>LINENAME</th>\n",
       "      <th>DIVISION</th>\n",
       "      <th>DATE</th>\n",
       "      <th>TIME</th>\n",
       "      <th>DESC</th>\n",
       "      <th>ENTRIES</th>\n",
       "      <th>EXITS</th>\n",
       "    </tr>\n",
       "  </thead>\n",
       "  <tbody>\n",
       "    <tr>\n",
       "      <th>205958</th>\n",
       "      <td>TRAM2</td>\n",
       "      <td>R469</td>\n",
       "      <td>00-05-01</td>\n",
       "      <td>RIT-ROOSEVELT</td>\n",
       "      <td>R</td>\n",
       "      <td>RIT</td>\n",
       "      <td>06/28/2019</td>\n",
       "      <td>05:00:00</td>\n",
       "      <td>REGULAR</td>\n",
       "      <td>5554</td>\n",
       "      <td>379</td>\n",
       "    </tr>\n",
       "    <tr>\n",
       "      <th>205959</th>\n",
       "      <td>TRAM2</td>\n",
       "      <td>R469</td>\n",
       "      <td>00-05-01</td>\n",
       "      <td>RIT-ROOSEVELT</td>\n",
       "      <td>R</td>\n",
       "      <td>RIT</td>\n",
       "      <td>06/28/2019</td>\n",
       "      <td>09:00:00</td>\n",
       "      <td>REGULAR</td>\n",
       "      <td>5554</td>\n",
       "      <td>379</td>\n",
       "    </tr>\n",
       "    <tr>\n",
       "      <th>205960</th>\n",
       "      <td>TRAM2</td>\n",
       "      <td>R469</td>\n",
       "      <td>00-05-01</td>\n",
       "      <td>RIT-ROOSEVELT</td>\n",
       "      <td>R</td>\n",
       "      <td>RIT</td>\n",
       "      <td>06/28/2019</td>\n",
       "      <td>13:00:00</td>\n",
       "      <td>REGULAR</td>\n",
       "      <td>5554</td>\n",
       "      <td>379</td>\n",
       "    </tr>\n",
       "    <tr>\n",
       "      <th>205961</th>\n",
       "      <td>TRAM2</td>\n",
       "      <td>R469</td>\n",
       "      <td>00-05-01</td>\n",
       "      <td>RIT-ROOSEVELT</td>\n",
       "      <td>R</td>\n",
       "      <td>RIT</td>\n",
       "      <td>06/28/2019</td>\n",
       "      <td>17:00:00</td>\n",
       "      <td>REGULAR</td>\n",
       "      <td>5554</td>\n",
       "      <td>379</td>\n",
       "    </tr>\n",
       "    <tr>\n",
       "      <th>205962</th>\n",
       "      <td>TRAM2</td>\n",
       "      <td>R469</td>\n",
       "      <td>00-05-01</td>\n",
       "      <td>RIT-ROOSEVELT</td>\n",
       "      <td>R</td>\n",
       "      <td>RIT</td>\n",
       "      <td>06/28/2019</td>\n",
       "      <td>21:00:00</td>\n",
       "      <td>REGULAR</td>\n",
       "      <td>5554</td>\n",
       "      <td>379</td>\n",
       "    </tr>\n",
       "  </tbody>\n",
       "</table>\n",
       "</div>"
      ],
      "text/plain": [
       "          C/A  UNIT       SCP        STATION LINENAME DIVISION        DATE  \\\n",
       "205958  TRAM2  R469  00-05-01  RIT-ROOSEVELT        R      RIT  06/28/2019   \n",
       "205959  TRAM2  R469  00-05-01  RIT-ROOSEVELT        R      RIT  06/28/2019   \n",
       "205960  TRAM2  R469  00-05-01  RIT-ROOSEVELT        R      RIT  06/28/2019   \n",
       "205961  TRAM2  R469  00-05-01  RIT-ROOSEVELT        R      RIT  06/28/2019   \n",
       "205962  TRAM2  R469  00-05-01  RIT-ROOSEVELT        R      RIT  06/28/2019   \n",
       "\n",
       "            TIME     DESC  ENTRIES  \\\n",
       "205958  05:00:00  REGULAR     5554   \n",
       "205959  09:00:00  REGULAR     5554   \n",
       "205960  13:00:00  REGULAR     5554   \n",
       "205961  17:00:00  REGULAR     5554   \n",
       "205962  21:00:00  REGULAR     5554   \n",
       "\n",
       "        EXITS                                                                 \n",
       "205958                                                379                     \n",
       "205959                                                379                     \n",
       "205960                                                379                     \n",
       "205961                                                379                     \n",
       "205962                                                379                     "
      ]
     },
     "execution_count": 24,
     "metadata": {},
     "output_type": "execute_result"
    }
   ],
   "source": [
    "# starting the dataframe with the last available date, which is june 29, 19:\n",
    "df = pd.read_csv(\"http://web.mta.info/developers/data/nyct/turnstile/turnstile_190629.txt\")\n",
    "df.tail()"
   ]
  },
  {
   "cell_type": "code",
   "execution_count": 25,
   "metadata": {},
   "outputs": [],
   "source": [
    "# appending each new date to the original dataframe:\n",
    "for url in url_dates:\n",
    "    df2 = pd.read_csv(\n",
    "        \"http://web.mta.info/developers/data/nyct/turnstile/turnstile_{}.txt\".format(url))\n",
    "    df = pd.concat([df, df2], ignore_index=True)"
   ]
  },
  {
   "cell_type": "code",
   "execution_count": 26,
   "metadata": {},
   "outputs": [
    {
     "data": {
      "text/html": [
       "<div>\n",
       "<style scoped>\n",
       "    .dataframe tbody tr th:only-of-type {\n",
       "        vertical-align: middle;\n",
       "    }\n",
       "\n",
       "    .dataframe tbody tr th {\n",
       "        vertical-align: top;\n",
       "    }\n",
       "\n",
       "    .dataframe thead th {\n",
       "        text-align: right;\n",
       "    }\n",
       "</style>\n",
       "<table border=\"1\" class=\"dataframe\">\n",
       "  <thead>\n",
       "    <tr style=\"text-align: right;\">\n",
       "      <th></th>\n",
       "      <th>C/A</th>\n",
       "      <th>UNIT</th>\n",
       "      <th>SCP</th>\n",
       "      <th>STATION</th>\n",
       "      <th>LINENAME</th>\n",
       "      <th>DIVISION</th>\n",
       "      <th>DATE</th>\n",
       "      <th>TIME</th>\n",
       "      <th>DESC</th>\n",
       "      <th>ENTRIES</th>\n",
       "      <th>EXITS</th>\n",
       "    </tr>\n",
       "  </thead>\n",
       "  <tbody>\n",
       "    <tr>\n",
       "      <th>823380</th>\n",
       "      <td>TRAM2</td>\n",
       "      <td>R469</td>\n",
       "      <td>00-05-01</td>\n",
       "      <td>RIT-ROOSEVELT</td>\n",
       "      <td>R</td>\n",
       "      <td>RIT</td>\n",
       "      <td>06/05/2019</td>\n",
       "      <td>17:00:00</td>\n",
       "      <td>RECOVR AUD</td>\n",
       "      <td>5554</td>\n",
       "      <td>379</td>\n",
       "    </tr>\n",
       "    <tr>\n",
       "      <th>823381</th>\n",
       "      <td>TRAM2</td>\n",
       "      <td>R469</td>\n",
       "      <td>00-05-01</td>\n",
       "      <td>RIT-ROOSEVELT</td>\n",
       "      <td>R</td>\n",
       "      <td>RIT</td>\n",
       "      <td>06/05/2019</td>\n",
       "      <td>21:00:00</td>\n",
       "      <td>REGULAR</td>\n",
       "      <td>5554</td>\n",
       "      <td>379</td>\n",
       "    </tr>\n",
       "    <tr>\n",
       "      <th>823382</th>\n",
       "      <td>TRAM2</td>\n",
       "      <td>R469</td>\n",
       "      <td>00-05-01</td>\n",
       "      <td>RIT-ROOSEVELT</td>\n",
       "      <td>R</td>\n",
       "      <td>RIT</td>\n",
       "      <td>06/06/2019</td>\n",
       "      <td>01:00:00</td>\n",
       "      <td>REGULAR</td>\n",
       "      <td>5554</td>\n",
       "      <td>379</td>\n",
       "    </tr>\n",
       "    <tr>\n",
       "      <th>823383</th>\n",
       "      <td>TRAM2</td>\n",
       "      <td>R469</td>\n",
       "      <td>00-05-01</td>\n",
       "      <td>RIT-ROOSEVELT</td>\n",
       "      <td>R</td>\n",
       "      <td>RIT</td>\n",
       "      <td>06/06/2019</td>\n",
       "      <td>05:00:00</td>\n",
       "      <td>REGULAR</td>\n",
       "      <td>5554</td>\n",
       "      <td>379</td>\n",
       "    </tr>\n",
       "    <tr>\n",
       "      <th>823384</th>\n",
       "      <td>TRAM2</td>\n",
       "      <td>R469</td>\n",
       "      <td>00-05-01</td>\n",
       "      <td>RIT-ROOSEVELT</td>\n",
       "      <td>R</td>\n",
       "      <td>RIT</td>\n",
       "      <td>06/06/2019</td>\n",
       "      <td>09:00:00</td>\n",
       "      <td>REGULAR</td>\n",
       "      <td>5554</td>\n",
       "      <td>379</td>\n",
       "    </tr>\n",
       "  </tbody>\n",
       "</table>\n",
       "</div>"
      ],
      "text/plain": [
       "          C/A  UNIT       SCP        STATION LINENAME DIVISION        DATE  \\\n",
       "823380  TRAM2  R469  00-05-01  RIT-ROOSEVELT        R      RIT  06/05/2019   \n",
       "823381  TRAM2  R469  00-05-01  RIT-ROOSEVELT        R      RIT  06/05/2019   \n",
       "823382  TRAM2  R469  00-05-01  RIT-ROOSEVELT        R      RIT  06/06/2019   \n",
       "823383  TRAM2  R469  00-05-01  RIT-ROOSEVELT        R      RIT  06/06/2019   \n",
       "823384  TRAM2  R469  00-05-01  RIT-ROOSEVELT        R      RIT  06/06/2019   \n",
       "\n",
       "            TIME        DESC  ENTRIES  \\\n",
       "823380  17:00:00  RECOVR AUD     5554   \n",
       "823381  21:00:00     REGULAR     5554   \n",
       "823382  01:00:00     REGULAR     5554   \n",
       "823383  05:00:00     REGULAR     5554   \n",
       "823384  09:00:00     REGULAR     5554   \n",
       "\n",
       "        EXITS                                                                 \n",
       "823380                                                379                     \n",
       "823381                                                379                     \n",
       "823382                                                379                     \n",
       "823383                                                379                     \n",
       "823384                                                379                     "
      ]
     },
     "execution_count": 26,
     "metadata": {},
     "output_type": "execute_result"
    }
   ],
   "source": [
    "df.tail()"
   ]
  },
  {
   "cell_type": "code",
   "execution_count": 27,
   "metadata": {},
   "outputs": [
    {
     "name": "stdout",
     "output_type": "stream",
     "text": [
      "<class 'pandas.core.frame.DataFrame'>\n",
      "RangeIndex: 823385 entries, 0 to 823384\n",
      "Data columns (total 11 columns):\n",
      "C/A                                                                     823385 non-null object\n",
      "UNIT                                                                    823385 non-null object\n",
      "SCP                                                                     823385 non-null object\n",
      "STATION                                                                 823385 non-null object\n",
      "LINENAME                                                                823385 non-null object\n",
      "DIVISION                                                                823385 non-null object\n",
      "DATE                                                                    823385 non-null object\n",
      "TIME                                                                    823385 non-null object\n",
      "DESC                                                                    823385 non-null object\n",
      "ENTRIES                                                                 823385 non-null int64\n",
      "EXITS                                                                   823385 non-null int64\n",
      "dtypes: int64(2), object(9)\n",
      "memory usage: 69.1+ MB\n"
     ]
    }
   ],
   "source": [
    "df.info()"
   ]
  },
  {
   "cell_type": "code",
   "execution_count": null,
   "metadata": {},
   "outputs": [],
   "source": []
  }
 ],
 "metadata": {
  "kernelspec": {
   "display_name": "Python 3",
   "language": "python",
   "name": "python3"
  },
  "language_info": {
   "codemirror_mode": {
    "name": "ipython",
    "version": 3
   },
   "file_extension": ".py",
   "mimetype": "text/x-python",
   "name": "python",
   "nbconvert_exporter": "python",
   "pygments_lexer": "ipython3",
   "version": "3.7.3"
  }
 },
 "nbformat": 4,
 "nbformat_minor": 2
}
